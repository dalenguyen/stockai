{
 "cells": [
  {
   "cell_type": "code",
   "execution_count": 2,
   "id": "beautiful-typing",
   "metadata": {},
   "outputs": [],
   "source": [
    "import pandas as pd \n",
    "import datetime\n",
    "from stockai import Stock\n",
    "import matplotlib.pyplot as plt\n",
    "import pandas_datareader.data as pdr\n",
    "\n",
    "%matplotlib inline"
   ]
  },
  {
   "cell_type": "code",
   "execution_count": 5,
   "id": "personal-palmer",
   "metadata": {},
   "outputs": [
    {
     "data": {
      "text/html": [
       "<div>\n",
       "<style scoped>\n",
       "    .dataframe tbody tr th:only-of-type {\n",
       "        vertical-align: middle;\n",
       "    }\n",
       "\n",
       "    .dataframe tbody tr th {\n",
       "        vertical-align: top;\n",
       "    }\n",
       "\n",
       "    .dataframe thead th {\n",
       "        text-align: right;\n",
       "    }\n",
       "</style>\n",
       "<table border=\"1\" class=\"dataframe\">\n",
       "  <thead>\n",
       "    <tr style=\"text-align: right;\">\n",
       "      <th></th>\n",
       "      <th>High</th>\n",
       "      <th>Low</th>\n",
       "      <th>Open</th>\n",
       "      <th>Close</th>\n",
       "      <th>Volume</th>\n",
       "      <th>Adj Close</th>\n",
       "    </tr>\n",
       "    <tr>\n",
       "      <th>Date</th>\n",
       "      <th></th>\n",
       "      <th></th>\n",
       "      <th></th>\n",
       "      <th></th>\n",
       "      <th></th>\n",
       "      <th></th>\n",
       "    </tr>\n",
       "  </thead>\n",
       "  <tbody>\n",
       "    <tr>\n",
       "      <th>2021-02-22</th>\n",
       "      <td>768.500000</td>\n",
       "      <td>710.200012</td>\n",
       "      <td>762.640015</td>\n",
       "      <td>714.500000</td>\n",
       "      <td>37011700.0</td>\n",
       "      <td>714.500000</td>\n",
       "    </tr>\n",
       "    <tr>\n",
       "      <th>2021-02-23</th>\n",
       "      <td>713.609985</td>\n",
       "      <td>619.000000</td>\n",
       "      <td>662.130005</td>\n",
       "      <td>698.840027</td>\n",
       "      <td>66397000.0</td>\n",
       "      <td>698.840027</td>\n",
       "    </tr>\n",
       "    <tr>\n",
       "      <th>2021-02-24</th>\n",
       "      <td>745.000000</td>\n",
       "      <td>694.169983</td>\n",
       "      <td>711.849976</td>\n",
       "      <td>742.020020</td>\n",
       "      <td>36677100.0</td>\n",
       "      <td>742.020020</td>\n",
       "    </tr>\n",
       "    <tr>\n",
       "      <th>2021-02-25</th>\n",
       "      <td>737.210022</td>\n",
       "      <td>670.580017</td>\n",
       "      <td>726.150024</td>\n",
       "      <td>682.219971</td>\n",
       "      <td>38619900.0</td>\n",
       "      <td>682.219971</td>\n",
       "    </tr>\n",
       "    <tr>\n",
       "      <th>2021-02-26</th>\n",
       "      <td>706.700012</td>\n",
       "      <td>659.510010</td>\n",
       "      <td>700.000000</td>\n",
       "      <td>675.500000</td>\n",
       "      <td>41011300.0</td>\n",
       "      <td>675.500000</td>\n",
       "    </tr>\n",
       "  </tbody>\n",
       "</table>\n",
       "</div>"
      ],
      "text/plain": [
       "                  High         Low        Open       Close      Volume  \\\n",
       "Date                                                                     \n",
       "2021-02-22  768.500000  710.200012  762.640015  714.500000  37011700.0   \n",
       "2021-02-23  713.609985  619.000000  662.130005  698.840027  66397000.0   \n",
       "2021-02-24  745.000000  694.169983  711.849976  742.020020  36677100.0   \n",
       "2021-02-25  737.210022  670.580017  726.150024  682.219971  38619900.0   \n",
       "2021-02-26  706.700012  659.510010  700.000000  675.500000  41011300.0   \n",
       "\n",
       "             Adj Close  \n",
       "Date                    \n",
       "2021-02-22  714.500000  \n",
       "2021-02-23  698.840027  \n",
       "2021-02-24  742.020020  \n",
       "2021-02-25  682.219971  \n",
       "2021-02-26  675.500000  "
      ]
     },
     "execution_count": 5,
     "metadata": {},
     "output_type": "execute_result"
    }
   ],
   "source": [
    "ticker = 'TSLA'\n",
    "\n",
    "# Download historical data for required stocks (5 years)\n",
    "ohlcv = pdr.get_data_yahoo(ticker, datetime.date.today() - datetime.timedelta(1825), datetime.date.today())\n",
    "\n",
    "ohlcv.tail()"
   ]
  },
  {
   "cell_type": "code",
   "execution_count": 4,
   "id": "proprietary-directory",
   "metadata": {},
   "outputs": [],
   "source": [
    "# Calculate True Range & Average True Range (ATR)\n",
    "\"\"\"\n",
    "- The average true range (ATR) is a market volatility indicator used in technical analysis.\n",
    "- It is typically derived from the 14-day simple moving average of a series of true range indicators.\n",
    "- The ATR was originally developed for use in commodities markets but has since been applied to all types of securities.\n",
    "- The ATR is commonly used as an exit method that can be applied no matter how the entry decision is made.\n",
    "\"\"\"\n",
    "def ATR(DF, n):\n",
    "    df = DF.copy()\n",
    "    df['H-L'] = abs(df['High'] - df['Low'])\n",
    "    df['H-PC'] = abs(df['High'] - df['Adj Close'].shift(1))\n",
    "    df['L-PC'] = abs(df['Low'] - df['Adj Close'].shift(1))\n",
    "    df['TR'] = df[['H-L', 'H-PC', 'L-PC']].max(axis=1,skipna=False)\n",
    "    df['ATR'] = df['TR'].rolling(n).mean()\n",
    "    df2 = df.drop(['H-L', 'H-PC', 'L-PC'], axis=1)\n",
    "    return df2"
   ]
  },
  {
   "cell_type": "code",
   "execution_count": 18,
   "id": "genetic-stations",
   "metadata": {},
   "outputs": [
    {
     "data": {
      "text/html": [
       "<div>\n",
       "<style scoped>\n",
       "    .dataframe tbody tr th:only-of-type {\n",
       "        vertical-align: middle;\n",
       "    }\n",
       "\n",
       "    .dataframe tbody tr th {\n",
       "        vertical-align: top;\n",
       "    }\n",
       "\n",
       "    .dataframe thead th {\n",
       "        text-align: right;\n",
       "    }\n",
       "</style>\n",
       "<table border=\"1\" class=\"dataframe\">\n",
       "  <thead>\n",
       "    <tr style=\"text-align: right;\">\n",
       "      <th></th>\n",
       "      <th>High</th>\n",
       "      <th>Low</th>\n",
       "      <th>Open</th>\n",
       "      <th>Close</th>\n",
       "      <th>Volume</th>\n",
       "      <th>Adj Close</th>\n",
       "      <th>TR</th>\n",
       "      <th>ATR</th>\n",
       "    </tr>\n",
       "    <tr>\n",
       "      <th>Date</th>\n",
       "      <th></th>\n",
       "      <th></th>\n",
       "      <th></th>\n",
       "      <th></th>\n",
       "      <th></th>\n",
       "      <th></th>\n",
       "      <th></th>\n",
       "      <th></th>\n",
       "    </tr>\n",
       "  </thead>\n",
       "  <tbody>\n",
       "    <tr>\n",
       "      <th>2021-02-22</th>\n",
       "      <td>768.500000</td>\n",
       "      <td>710.200012</td>\n",
       "      <td>762.640015</td>\n",
       "      <td>714.500000</td>\n",
       "      <td>37011700.0</td>\n",
       "      <td>714.500000</td>\n",
       "      <td>71.099976</td>\n",
       "      <td>37.142007</td>\n",
       "    </tr>\n",
       "    <tr>\n",
       "      <th>2021-02-23</th>\n",
       "      <td>713.609985</td>\n",
       "      <td>619.000000</td>\n",
       "      <td>662.130005</td>\n",
       "      <td>698.840027</td>\n",
       "      <td>66397000.0</td>\n",
       "      <td>698.840027</td>\n",
       "      <td>95.500000</td>\n",
       "      <td>38.838007</td>\n",
       "    </tr>\n",
       "    <tr>\n",
       "      <th>2021-02-24</th>\n",
       "      <td>745.000000</td>\n",
       "      <td>694.169983</td>\n",
       "      <td>711.849976</td>\n",
       "      <td>742.020020</td>\n",
       "      <td>36677100.0</td>\n",
       "      <td>742.020020</td>\n",
       "      <td>50.830017</td>\n",
       "      <td>40.164505</td>\n",
       "    </tr>\n",
       "    <tr>\n",
       "      <th>2021-02-25</th>\n",
       "      <td>737.210022</td>\n",
       "      <td>670.580017</td>\n",
       "      <td>726.150024</td>\n",
       "      <td>682.219971</td>\n",
       "      <td>38619900.0</td>\n",
       "      <td>682.219971</td>\n",
       "      <td>71.440002</td>\n",
       "      <td>42.094504</td>\n",
       "    </tr>\n",
       "    <tr>\n",
       "      <th>2021-02-26</th>\n",
       "      <td>706.700012</td>\n",
       "      <td>659.510010</td>\n",
       "      <td>700.000000</td>\n",
       "      <td>675.500000</td>\n",
       "      <td>41011300.0</td>\n",
       "      <td>675.500000</td>\n",
       "      <td>47.190002</td>\n",
       "      <td>41.296005</td>\n",
       "    </tr>\n",
       "  </tbody>\n",
       "</table>\n",
       "</div>"
      ],
      "text/plain": [
       "                  High         Low        Open       Close      Volume  \\\n",
       "Date                                                                     \n",
       "2021-02-22  768.500000  710.200012  762.640015  714.500000  37011700.0   \n",
       "2021-02-23  713.609985  619.000000  662.130005  698.840027  66397000.0   \n",
       "2021-02-24  745.000000  694.169983  711.849976  742.020020  36677100.0   \n",
       "2021-02-25  737.210022  670.580017  726.150024  682.219971  38619900.0   \n",
       "2021-02-26  706.700012  659.510010  700.000000  675.500000  41011300.0   \n",
       "\n",
       "             Adj Close         TR        ATR  \n",
       "Date                                          \n",
       "2021-02-22  714.500000  71.099976  37.142007  \n",
       "2021-02-23  698.840027  95.500000  38.838007  \n",
       "2021-02-24  742.020020  50.830017  40.164505  \n",
       "2021-02-25  682.219971  71.440002  42.094504  \n",
       "2021-02-26  675.500000  47.190002  41.296005  "
      ]
     },
     "execution_count": 18,
     "metadata": {},
     "output_type": "execute_result"
    }
   ],
   "source": [
    "atr = ATR(ohlcv, 20)\n",
    "atr.tail()"
   ]
  },
  {
   "cell_type": "code",
   "execution_count": 21,
   "id": "faced-plant",
   "metadata": {},
   "outputs": [
    {
     "data": {
      "text/plain": [
       "<AxesSubplot:xlabel='Date'>"
      ]
     },
     "execution_count": 21,
     "metadata": {},
     "output_type": "execute_result"
    },
    {
     "data": {
      "image/png": "[encoded data removed]",
      "text/plain": [
       "<Figure size 432x288 with 1 Axes>"
      ]
     },
     "metadata": {
      "needs_background": "light"
     },
     "output_type": "display_data"
    }
   ],
   "source": [
    "atr.iloc[-100:,[-2, -1]].plot()"
   ]
  },
  {
   "cell_type": "code",
   "execution_count": 9,
   "id": "fifteen-kruger",
   "metadata": {},
   "outputs": [],
   "source": [
    "# Calculate Bollinger Bands\n",
    "\"\"\"\n",
    "- Bollinger Bands® are a technical analysis tool developed by John Bollinger \n",
    "for generating oversold or overbought signals.\n",
    "- There are three lines that compose Bollinger Bands: A simple moving average (middle band) \n",
    "and an upper and lower band.\n",
    "- The upper and lower bands are typically 2 standard deviations +/- from a 20-day simple moving average, \n",
    "but can be modified.\n",
    "\"\"\"\n",
    "def BollBnd(DF, n):\n",
    "    df = DF.copy()\n",
    "    df['MA'] = df['Adj Close'].rolling(n).mean()\n",
    "    df['BB_up'] = df['MA'] + 2*df['MA'].rolling(n).std()\n",
    "    df['BB_dn'] = df['MA'] - 2*df['MA'].rolling(n).std()\n",
    "    df['BB_width'] = df['BB_up'] - df['BB_dn']\n",
    "    df.dropna(inplace=True)\n",
    "    return df"
   ]
  },
  {
   "cell_type": "code",
   "execution_count": 15,
   "id": "expressed-privacy",
   "metadata": {},
   "outputs": [
    {
     "data": {
      "text/plain": [
       "<AxesSubplot:xlabel='Date'>"
      ]
     },
     "execution_count": 15,
     "metadata": {},
     "output_type": "execute_result"
    },
    {
     "data": {
      "image/png": "[encoded data removed]",
      "text/plain": [
       "<Figure size 432x288 with 1 Axes>"
      ]
     },
     "metadata": {
      "needs_background": "light"
     },
     "output_type": "display_data"
    }
   ],
   "source": [
    "bb = BollBnd(ohlcv, 20)\n",
    "# Plot the last 100 items\n",
    "bb.iloc[-100:,[-4,-3,-2]].plot()"
   ]
  }
 ],
 "metadata": {
  "kernelspec": {
   "display_name": "Python 3",
   "language": "python",
   "name": "python3"
  },
  "language_info": {
   "codemirror_mode": {
    "name": "ipython",
    "version": 3
   },
   "file_extension": ".py",
   "mimetype": "text/x-python",
   "name": "python",
   "nbconvert_exporter": "python",
   "pygments_lexer": "ipython3",
   "version": "3.8.2"
  }
 },
 "nbformat": 4,
 "nbformat_minor": 5
}
