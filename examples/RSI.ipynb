{
 "cells": [
  {
   "cell_type": "code",
   "execution_count": 9,
   "id": "static-mouse",
   "metadata": {},
   "outputs": [],
   "source": [
    "import pandas as pd \n",
    "import datetime\n",
    "from stockai import Stock\n",
    "import matplotlib.pyplot as plt\n",
    "import pandas_datareader.data as pdr\n",
    "import numpy as np\n",
    "\n",
    "%matplotlib inline"
   ]
  },
  {
   "cell_type": "code",
   "execution_count": 3,
   "id": "vocal-cliff",
   "metadata": {},
   "outputs": [
    {
     "data": {
      "text/html": [
       "<div>\n",
       "<style scoped>\n",
       "    .dataframe tbody tr th:only-of-type {\n",
       "        vertical-align: middle;\n",
       "    }\n",
       "\n",
       "    .dataframe tbody tr th {\n",
       "        vertical-align: top;\n",
       "    }\n",
       "\n",
       "    .dataframe thead th {\n",
       "        text-align: right;\n",
       "    }\n",
       "</style>\n",
       "<table border=\"1\" class=\"dataframe\">\n",
       "  <thead>\n",
       "    <tr style=\"text-align: right;\">\n",
       "      <th></th>\n",
       "      <th>High</th>\n",
       "      <th>Low</th>\n",
       "      <th>Open</th>\n",
       "      <th>Close</th>\n",
       "      <th>Volume</th>\n",
       "      <th>Adj Close</th>\n",
       "    </tr>\n",
       "    <tr>\n",
       "      <th>Date</th>\n",
       "      <th></th>\n",
       "      <th></th>\n",
       "      <th></th>\n",
       "      <th></th>\n",
       "      <th></th>\n",
       "      <th></th>\n",
       "    </tr>\n",
       "  </thead>\n",
       "  <tbody>\n",
       "    <tr>\n",
       "      <th>2021-02-22</th>\n",
       "      <td>768.500000</td>\n",
       "      <td>710.200012</td>\n",
       "      <td>762.640015</td>\n",
       "      <td>714.500000</td>\n",
       "      <td>37011700.0</td>\n",
       "      <td>714.500000</td>\n",
       "    </tr>\n",
       "    <tr>\n",
       "      <th>2021-02-23</th>\n",
       "      <td>713.609985</td>\n",
       "      <td>619.000000</td>\n",
       "      <td>662.130005</td>\n",
       "      <td>698.840027</td>\n",
       "      <td>66397000.0</td>\n",
       "      <td>698.840027</td>\n",
       "    </tr>\n",
       "    <tr>\n",
       "      <th>2021-02-24</th>\n",
       "      <td>745.000000</td>\n",
       "      <td>694.169983</td>\n",
       "      <td>711.849976</td>\n",
       "      <td>742.020020</td>\n",
       "      <td>36677100.0</td>\n",
       "      <td>742.020020</td>\n",
       "    </tr>\n",
       "    <tr>\n",
       "      <th>2021-02-25</th>\n",
       "      <td>737.210022</td>\n",
       "      <td>670.580017</td>\n",
       "      <td>726.150024</td>\n",
       "      <td>682.219971</td>\n",
       "      <td>38619900.0</td>\n",
       "      <td>682.219971</td>\n",
       "    </tr>\n",
       "    <tr>\n",
       "      <th>2021-02-26</th>\n",
       "      <td>706.700012</td>\n",
       "      <td>659.510010</td>\n",
       "      <td>700.000000</td>\n",
       "      <td>675.500000</td>\n",
       "      <td>41011300.0</td>\n",
       "      <td>675.500000</td>\n",
       "    </tr>\n",
       "  </tbody>\n",
       "</table>\n",
       "</div>"
      ],
      "text/plain": [
       "                  High         Low        Open       Close      Volume  \\\n",
       "Date                                                                     \n",
       "2021-02-22  768.500000  710.200012  762.640015  714.500000  37011700.0   \n",
       "2021-02-23  713.609985  619.000000  662.130005  698.840027  66397000.0   \n",
       "2021-02-24  745.000000  694.169983  711.849976  742.020020  36677100.0   \n",
       "2021-02-25  737.210022  670.580017  726.150024  682.219971  38619900.0   \n",
       "2021-02-26  706.700012  659.510010  700.000000  675.500000  41011300.0   \n",
       "\n",
       "             Adj Close  \n",
       "Date                    \n",
       "2021-02-22  714.500000  \n",
       "2021-02-23  698.840027  \n",
       "2021-02-24  742.020020  \n",
       "2021-02-25  682.219971  \n",
       "2021-02-26  675.500000  "
      ]
     },
     "execution_count": 3,
     "metadata": {},
     "output_type": "execute_result"
    }
   ],
   "source": [
    "ticker = 'TSLA'\n",
    "\n",
    "# Download historical data for required stocks (1 year)\n",
    "ohlcv = pdr.get_data_yahoo(ticker, datetime.date.today() - datetime.timedelta(365), datetime.date.today())\n",
    "\n",
    "ohlcv.tail()"
   ]
  },
  {
   "cell_type": "code",
   "execution_count": 5,
   "id": "qualified-lecture",
   "metadata": {},
   "outputs": [],
   "source": [
    "# Calculate Relative Strength Index (RSI)\n",
    "\"\"\"\n",
    "- The RSI provides technical traders signals about bullish and bearish price momentum, \n",
    "and it is often plotted beneath the graph of an asset's price.\n",
    "- An asset is usually considered overbought when the RSI is above 70% and oversold when it is below 30%.\n",
    "\"\"\"\n",
    "def RSI(DF, n):\n",
    "    df = DF.copy()\n",
    "    df['delta'] = df['Adj Close'] - df['Adj Close'].shift(1)\n",
    "    df['gain'] = np.where(df['delta'] >= 0, df['delta'], 0)\n",
    "    df['loss'] = np.where(df['delta'] < 0, abs(df['delta']), 0)\n",
    "    \n",
    "    avg_gain = []\n",
    "    avg_loss = []\n",
    "    \n",
    "    gain = df['gain'].tolist()\n",
    "    loss = df['loss'].tolist()\n",
    "    \n",
    "    for i in range(len(df)):\n",
    "        if i < n:\n",
    "            avg_gain.append(np.NaN)\n",
    "            avg_loss.append(np.NaN)\n",
    "        elif i == n:\n",
    "            avg_gain.append(df['gain'].rolling(n).mean().tolist()[n])\n",
    "            avg_loss.append(df['loss'].rolling(n).mean().tolist()[n])\n",
    "        elif i > n:\n",
    "            avg_gain.append(((n-1)*avg_gain[i-1] + gain[i])/n)\n",
    "            avg_loss.append(((n-1)*avg_loss[i-1] + loss[i])/n)\n",
    "    \n",
    "    df['avg_gain'] = np.array(avg_gain)\n",
    "    df['avg_loss'] = np.array(avg_loss)\n",
    "    df['RS'] = df['avg_gain']/df['avg_loss']\n",
    "    df['RSI'] = 100 - (100/(1 + df['RS']))\n",
    "    \n",
    "    return df['RSI']"
   ]
  },
  {
   "cell_type": "code",
   "execution_count": 10,
   "id": "norman-phoenix",
   "metadata": {},
   "outputs": [
    {
     "data": {
      "text/plain": [
       "<AxesSubplot:xlabel='Date'>"
      ]
     },
     "execution_count": 10,
     "metadata": {},
     "output_type": "execute_result"
    },
    {
     "data": {
      "image/png": "[encoded data removed]",
      "text/plain": [
       "<Figure size 432x288 with 1 Axes>"
      ]
     },
     "metadata": {
      "needs_background": "light"
     },
     "output_type": "display_data"
    }
   ],
   "source": [
    "rsi = RSI(ohlcv, 14)\n",
    "\n",
    "rsi.plot()"
   ]
  }
 ],
 "metadata": {
  "kernelspec": {
   "display_name": "Python 3",
   "language": "python",
   "name": "python3"
  },
  "language_info": {
   "codemirror_mode": {
    "name": "ipython",
    "version": 3
   },
   "file_extension": ".py",
   "mimetype": "text/x-python",
   "name": "python",
   "nbconvert_exporter": "python",
   "pygments_lexer": "ipython3",
   "version": "3.8.2"
  }
 },
 "nbformat": 4,
 "nbformat_minor": 5
}
